{
 "cells": [
  {
   "cell_type": "markdown",
   "metadata": {},
   "source": [
    "## Regressão Linear\n",
    "* A regressão é um processo de machine learning supervisionado;\n",
    "* É semelhante à classificação, mas, em vez de prever um rótulo, tentamos prever um valor contínuo;\n",
    "* Se você estiver tentando prever um número, utilize a regressão; \n",
    "* Em estatística ou econometria, regressão linear é uma equação para se estimar a condicional de uma variável y, dados os valores de algumas outras variáveis x;\n",
    "* Regressão linear é o processo de traçar uma reta através dos dados em um diagrama de dispersão. A reta resume esses dados, o que é útil quando fazemos previsões."
   ]
  },
  {
   "cell_type": "markdown",
   "metadata": {},
   "source": [
    "### Vamos supor que eu queira fazer previsões sobre o custo de contratação de um plano de saúde"
   ]
  },
  {
   "cell_type": "markdown",
   "metadata": {},
   "source": [
    "<img src=\"exemplo.png\"  width=\"200px\"/> "
   ]
  },
  {
   "cell_type": "markdown",
   "metadata": {},
   "source": [
    "### Linha de regressão"
   ]
  },
  {
   "cell_type": "markdown",
   "metadata": {},
   "source": [
    "<img src=\"linha_regressao.png\"  width=\"600px\"/> "
   ]
  },
  {
   "cell_type": "markdown",
   "metadata": {},
   "source": [
    "### Correlação\n",
    "* Para trabalhar com regressão linear a correlação entre as variáveis tem que ser de moderada a forte. Variáveis dependentes e independentes."
   ]
  },
  {
   "cell_type": "markdown",
   "metadata": {},
   "source": [
    "<img src=\"correlacao_1.png\"  width=\"600px\"/> "
   ]
  },
  {
   "cell_type": "markdown",
   "metadata": {},
   "source": [
    "<img src=\"correlacao_2.png\"  width=\"600px\"/> "
   ]
  },
  {
   "cell_type": "markdown",
   "metadata": {},
   "source": [
    "#### Como fazer a  previsão do custo ?\n",
    "Preciso utilizar a linha de regressão. A intersecção entre as variáveis irá me dar o valor, no caso o custo."
   ]
  },
  {
   "cell_type": "markdown",
   "metadata": {},
   "source": [
    "<img src=\"custo_45_p1.png\"  width=\"500px\"/> "
   ]
  },
  {
   "cell_type": "markdown",
   "metadata": {},
   "source": [
    "#### Como a linha é contruída?\n",
    "* Ponto de encontro da linha  no Eixo Y (intersecção): X= 0\n",
    "* Inclinação: a cada unidade que aumenta a variável independente(x), a variável de resposta (y) sobe o valor da inclinação  "
   ]
  },
  {
   "cell_type": "markdown",
   "metadata": {},
   "source": [
    "<img src=\"custo_45_p2.png\"  width=\"500px\"/> "
   ]
  },
  {
   "cell_type": "markdown",
   "metadata": {},
   "source": [
    "* Intersecção: -558,94\n",
    "* Inclinação: 61,86\n",
    "* Previsão:\n",
    " - 33 anos: 1356\n",
    " - 34 anos: 1356 + 61,86 = 1417,86\n",
    " \n",
    " Obs: nesse exemplo cada vez que eu vou aumentar em 1 eu soma o anterior 33 + 61,86"
   ]
  },
  {
   "cell_type": "markdown",
   "metadata": {},
   "source": [
    "### Como prever?\n",
    "* Previsão = Intersecção + ( INCLINAÇÃO * Valor a prever )\n",
    "* Quanto vai custar um cliente com 56 anos de idade?\n",
    "* X = -558,94 + (61,86 * 56)\n",
    "* X = 2905,22"
   ]
  },
  {
   "cell_type": "markdown",
   "metadata": {},
   "source": [
    "#### A equação para nosso modelo de regressão linear simples pode ser escrita como:\n",
    "y = b+a*x"
   ]
  },
  {
   "cell_type": "markdown",
   "metadata": {},
   "source": [
    "## Qual é o melhor modelo?"
   ]
  },
  {
   "cell_type": "markdown",
   "metadata": {},
   "source": [
    "<img src=\"custo_45_p3.png\" height=\"10000\" width=\"900px\"/> "
   ]
  },
  {
   "cell_type": "markdown",
   "metadata": {},
   "source": [
    "### Resíduos\n",
    "* É a diferença entre o ponto até a reta;\n",
    "* Caso os dados coincidam com a reta não há resíduos, portanto o valor é 0 e a correlação será 1 (perfeita)."
   ]
  },
  {
   "cell_type": "markdown",
   "metadata": {},
   "source": [
    "<img src=\"residuos.png\"  width=\"500px\"/> "
   ]
  },
  {
   "cell_type": "markdown",
   "metadata": {},
   "source": [
    "<img src=\"condicoes.png\"  width=\"500px\"/> "
   ]
  },
  {
   "cell_type": "markdown",
   "metadata": {},
   "source": [
    "### Condições\n",
    "Além de ter uma correlação de forte a moderada, também tem que ter:\n",
    "* Residuais próximos de uma distribuição normal:\n",
    "  - Histograma;\n",
    "  - Diagrama de normalidade;\n",
    "  - Teste de Shapiro-Wilk. "
   ]
  },
  {
   "cell_type": "markdown",
   "metadata": {},
   "source": [
    "### Os outliers podem influenciar o modelo de regressão, então tenha cuidado, pois um plano pode ser diferenciado(mais caro) de acordo com a pessoa."
   ]
  },
  {
   "cell_type": "markdown",
   "metadata": {},
   "source": [
    "<img src=\"outliers.png\"  width=\"500px\"/> "
   ]
  },
  {
   "cell_type": "markdown",
   "metadata": {},
   "source": [
    "### A Extrapolação também pode influenciar os modelos"
   ]
  },
  {
   "cell_type": "markdown",
   "metadata": {},
   "source": [
    "<img src=\"extrapolacao.png\"  width=\"500px\"/> "
   ]
  },
  {
   "cell_type": "markdown",
   "metadata": {},
   "source": [
    "### Regressão Linar Simples Vs Mútiplas\n",
    "* Simples - Temos apenas uma variável independente x;\n",
    "* Múltipla - Temos mais de uma variável independente x."
   ]
  },
  {
   "cell_type": "markdown",
   "metadata": {},
   "source": [
    "### Referências\n",
    "* Formação Cientista de Dados com Python e R. Disponível em:< https://www.udemy.com/course/cientista-de-dados/>. Acesso em 01/02/2020.\n",
    "* Regressão linear simples. Disponível em:https://medium.com/ensina-ai/regress%C3%A3o-linear-simples-4cac67c4488c. Acesso em 17/10/2022.\n",
    "* Harrison, Matt. Machine Learning – Guia de Referência Rápida (p. 186). Novatec Editora. Edição do Kindle.\n"
   ]
  }
 ],
 "metadata": {
  "jupytext": {
   "cell_metadata_filter": "-all",
   "main_language": "python",
   "notebook_metadata_filter": "-all"
  },
  "kernelspec": {
   "display_name": "Python 3",
   "language": "python",
   "name": "python3"
  },
  "language_info": {
   "codemirror_mode": {
    "name": "ipython",
    "version": 3
   },
   "file_extension": ".py",
   "mimetype": "text/x-python",
   "name": "python",
   "nbconvert_exporter": "python",
   "pygments_lexer": "ipython3",
   "version": "3.8.8"
  }
 },
 "nbformat": 4,
 "nbformat_minor": 4
}
